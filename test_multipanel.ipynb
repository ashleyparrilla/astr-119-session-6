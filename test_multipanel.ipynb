{
 "cells": [
  {
   "cell_type": "markdown",
   "metadata": {},
   "source": [
    "# Making multipanel plots with matplotlib\n",
    "\n",
    "first, we import numpy and matplotlib as usual"
   ]
  },
  {
   "cell_type": "code",
   "execution_count": null,
   "metadata": {},
   "outputs": [],
   "source": [
    "%matplotlib inline\n",
    "import numpy as np\n",
    "import matplotlib.pyplot as plt"
   ]
  },
  {
   "cell_type": "markdown",
   "metadata": {},
   "source": [
    "then we define an array of angles, and their sines and cosines using numpy. this time we use linspace"
   ]
  },
  {
   "cell_type": "code",
   "execution_count": null,
   "metadata": {},
   "outputs": [],
   "source": [
    "x = np.linspace(0,2*np.pi,100)  #with 100 values\n",
    "print(x[-1],2*np.pi)\n",
    "\n",
    "y = np.sin(x)\n",
    "z = np.cos(x)\n",
    "w = np.sin(4*x)\n",
    "v = np.cos(4*x)"
   ]
  },
  {
   "cell_type": "markdown",
   "metadata": {},
   "source": [
    "now, lets make a two panel plot side-by-side"
   ]
  },
  {
   "cell_type": "code",
   "execution_count": null,
   "metadata": {},
   "outputs": [],
   "source": [
    "#call subplotsto generate a multipanel figure. this means 1 row, 2 columns of figures\n",
    "f, axarr = plt.subplots(1,2)\n",
    "\n",
    "#treat axarr as an array, from left to right\n",
    "\n",
    "#first panel\n",
    "axarr[0].plot(x,y)\n",
    "axarr[0].set_xlabel('x')\n",
    "axarr[0].set_ylabel('sin(x)')\n",
    "axarr[0].set_title(r'$\\sin(x)$')\n",
    "#second panel\n",
    "axarr[1].plot(x,z)\n",
    "axarr[1].set_xlabel('x')\n",
    "axarr[1].set_ylabel('cos(x)')\n",
    "axarr[1].set_title(r'$\\cos(x)')"
   ]
  },
  {
   "cell_type": "markdown",
   "metadata": {},
   "source": [
    "here we can see that matplotlib has the panels too close together\n"
   ]
  },
  {
   "cell_type": "markdown",
   "metadata": {},
   "source": [
    "we can adjust that using the subplots_adjust() function."
   ]
  },
  {
   "cell_type": "code",
   "execution_count": null,
   "metadata": {},
   "outputs": [],
   "source": [
    "#call subplotsto generate a multipanel figure. this means 1 row, 2 columns of figures\n",
    "f, axarr = plt.subplots(1,2)\n",
    "\n",
    "#treat axarr as an array, from left to right\n",
    "\n",
    "#first panel\n",
    "axarr[0].plot(x,y)\n",
    "axarr[0].set_xlabel('x')\n",
    "axarr[0].set_ylabel('sin(x)')\n",
    "axarr[0].set_title(r'$\\sin(x)$')\n",
    "#second panel\n",
    "axarr[1].plot(x,z)\n",
    "axarr[1].set_xlabel('x')\n",
    "axarr[1].set_ylabel('cos(x)')\n",
    "axarr[1].set_title(r'$\\cos(x)')\n",
    "\n",
    "#add more space between the figures\n",
    "f.subplots_adjust(wspace=0.4)"
   ]
  },
  {
   "cell_type": "markdown",
   "metadata": {},
   "source": [
    "fine but the axis ratios are all squished so we can fix that"
   ]
  },
  {
   "cell_type": "code",
   "execution_count": null,
   "metadata": {},
   "outputs": [],
   "source": [
    "#call subplots to generate a multipanel figure. this means 1 row, 2 columns of figures\n",
    "f, axarr = plt.subplots(1,2)\n",
    "\n",
    "#treat axarr as an array, from left to right\n",
    "\n",
    "#first panel\n",
    "axarr[0].plot(x,y)\n",
    "axarr[0].set_xlabel('x')\n",
    "axarr[0].set_ylabel('sin(x)')\n",
    "axarr[0].set_title(r'$\\sin(x)$')\n",
    "#second panel\n",
    "axarr[1].plot(x,z)\n",
    "axarr[1].set_xlabel('x')\n",
    "axarr[1].set_ylabel('cos(x)')\n",
    "axarr[1].set_title(r'$\\cos(x)')\n",
    "\n",
    "#add more space between the figures\n",
    "f.subplots_adjust(wspace=0.4)\n",
    "\n",
    "#fix the axis ratio\n",
    "#here are two possible options\n",
    "axarr[0].set_aspect('equal')  #make the ratio of the tick units equal, a bit counter intuitive\n",
    "axarr[1].set_aspect(np.pi)    #make a square by setting the aspect to be the ratio of the tick unit range "
   ]
  },
  {
   "cell_type": "markdown",
   "metadata": {},
   "source": [
    "alright, lets keep the square figure, merge them into one, remove the titles and add legends"
   ]
  },
  {
   "cell_type": "code",
   "execution_count": null,
   "metadata": {},
   "outputs": [],
   "source": [
    "#adjust the size of the figure\n",
    "fig = plt.figure(figsize=(6,6))\n",
    "\n",
    "plt.plot(x, y, label=r'$y = \\sin(x)$')\n",
    "plt.plot(x, z, label=r'$y = \\cos(x)$')\n",
    "plt.plot(x, w, label=r'$y = \\sin(4x)$')\n",
    "plt.plot(x, v, label=r'$y = \\cos(4x)$')\n",
    "\n",
    "plt.xlabel(r'$x$')\n",
    "plt.ylabel(r'$y(x)$')\n",
    "plt.xlim([0,2*np.pi])\n",
    "plt.ylim([-1.2,1.2])\n",
    "plt.legend(loc=1, framealpha=0.95)   #adda legend with a semi-transparent frame in the upper RH corner\n",
    "\n",
    "#fix the axis ratio\n",
    "plt.gca().set_aspect(np.pi/1.2)      #use \"gca\" to get current axis()"
   ]
  }
 ],
 "metadata": {
  "kernelspec": {
   "display_name": "Python 3",
   "language": "python",
   "name": "python3"
  },
  "language_info": {
   "codemirror_mode": {
    "name": "ipython",
    "version": 3
   },
   "file_extension": ".py",
   "mimetype": "text/x-python",
   "name": "python",
   "nbconvert_exporter": "python",
   "pygments_lexer": "ipython3",
   "version": "3.6.5"
  }
 },
 "nbformat": 4,
 "nbformat_minor": 2
}
